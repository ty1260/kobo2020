{
 "cells": [
  {
   "cell_type": "markdown",
   "metadata": {},
   "source": [
    "## コード"
   ]
  },
  {
   "cell_type": "code",
   "execution_count": 1,
   "metadata": {},
   "outputs": [
    {
     "name": "stdout",
     "output_type": "stream",
     "text": [
      "[0.31682708 0.69627909]\n"
     ]
    }
   ],
   "source": [
    "import numpy as np\n",
    "\n",
    "def sigmoid(x):\n",
    "    return 1 / (1 + np.exp(-x))\n",
    "\n",
    "def softmax(x):\n",
    "    exp_x = np.exp(x)\n",
    "    sum_exp = np.sum(exp_x)\n",
    "    return (exp_x / sum_exp)\n",
    "\n",
    "\n",
    "def init_network():\n",
    "    network = {}\n",
    "    network['W1'] = np.array([[0.1, 0.3, 0.5], [0.2, 0.4, 0.6]])\n",
    "    network['b1'] = np.array([[0.1, 0.2, 0.3]])\n",
    "    network['W2'] = np.array([[0.1, 0.4], [0.2, 0.5], [0.3, 0.6]])\n",
    "    network['b2'] = np.array([[0.1, 0.2]])\n",
    "    network['W3'] = np.array([[0.1, 0.3], [0.2, 0.4]])\n",
    "    network['b3'] = np.array([[0.1, 0.2]])\n",
    "    return network\n",
    "\n",
    "\n",
    "def forward(network, x):\n",
    "    # layer1\n",
    "    W1 = network['W1']\n",
    "    b1 = network['b1']\n",
    "    a1 = np.dot(x, W1)+b1\n",
    "    z1 = sigmoid(a1)\n",
    "    # layer2\n",
    "    W2 = network['W2']\n",
    "    b2 = network['b2']\n",
    "    a2 = np.dot(z1, W2) + b2\n",
    "    z2 = sigmoid(a2)\n",
    "    # layer3\n",
    "    W3 = network['W3']\n",
    "    b3 = network['b3']\n",
    "    a3 = np.dot(z2, W3) + b3\n",
    "    y = a3[0]\n",
    "    return y\n",
    "\n",
    "\n",
    "network = init_network()\n",
    "x = np.array([1.0, 0.5])\n",
    "y = forward(network, x)\n",
    "print(y)  # [0.31682708 0.69627909]"
   ]
  },
  {
   "cell_type": "markdown",
   "metadata": {},
   "source": [
    "## バッチ処理"
   ]
  },
  {
   "cell_type": "markdown",
   "metadata": {},
   "source": [
    "サンプルコード"
   ]
  },
  {
   "cell_type": "code",
   "execution_count": 2,
   "metadata": {},
   "outputs": [],
   "source": [
    "import numpy as np\n",
    "import random  \n",
    "network = init_network()\n",
    "batch_size = 16\n",
    "x=np.random.rand(1000,2)\n",
    "for i in range(0,len(x),batch_size):\n",
    "    x_batch = x[i:i+batch_size]\n",
    "    y_batch = forward(network,x_batch)"
   ]
  },
  {
   "cell_type": "code",
   "execution_count": 13,
   "metadata": {},
   "outputs": [
    {
     "name": "stdout",
     "output_type": "stream",
     "text": [
      "[[0.70051782 0.76662525]\n",
      " [0.59404371 0.83668049]\n",
      " [0.55807035 0.7640445 ]\n",
      " ...\n",
      " [0.92756709 0.56553368]\n",
      " [0.52892131 0.90522689]\n",
      " [0.22856351 0.10344932]]\n"
     ]
    }
   ],
   "source": [
    "print(x)"
   ]
  },
  {
   "cell_type": "code",
   "execution_count": 10,
   "metadata": {},
   "outputs": [
    {
     "name": "stdout",
     "output_type": "stream",
     "text": [
      "(1000, 2)\n"
     ]
    }
   ],
   "source": [
    "print(x.shape)"
   ]
  },
  {
   "cell_type": "markdown",
   "metadata": {},
   "source": [
    "Numpyを用いた乱数の作り方が分かった."
   ]
  },
  {
   "cell_type": "code",
   "execution_count": 14,
   "metadata": {},
   "outputs": [
    {
     "data": {
      "text/plain": [
       "array([[0.67554038, 0.95400137],\n",
       "       [0.78990107, 0.49007151],\n",
       "       [0.36238751, 0.23621317],\n",
       "       [0.27674277, 0.18104371],\n",
       "       [0.7417511 , 0.25590019],\n",
       "       [0.92756709, 0.56553368],\n",
       "       [0.52892131, 0.90522689],\n",
       "       [0.22856351, 0.10344932]])"
      ]
     },
     "execution_count": 14,
     "metadata": {},
     "output_type": "execute_result"
    }
   ],
   "source": [
    "x_batch"
   ]
  },
  {
   "cell_type": "markdown",
   "metadata": {},
   "source": [
    "スライスを用いることで8×2行列が生成されている"
   ]
  },
  {
   "cell_type": "code",
   "execution_count": 23,
   "metadata": {},
   "outputs": [
    {
     "name": "stdout",
     "output_type": "stream",
     "text": [
      "[0.31803089 0.6989467 ]\n"
     ]
    }
   ],
   "source": [
    "print(y_batch)"
   ]
  },
  {
   "cell_type": "markdown",
   "metadata": {},
   "source": [
    "データがまとめて処理されていることが結果より分かった."
   ]
  },
  {
   "cell_type": "markdown",
   "metadata": {},
   "source": [
    "## 感想\n",
    "numpyはそこそこ使っているはずなのにまだまだ慣れが足りないと感じた. ニューラルネットワークも手を動かすことで理解が深まった. パッチ処理はまだまだ理解が足りないと思ったので今後の学習も参考にしながら学んでいきたい."
   ]
  },
  {
   "cell_type": "markdown",
   "metadata": {},
   "source": [
    "## 参考文献\n",
    "斎藤 康毅　『ゼロから作るDeep Learning』, 2019, オライリー・ジャパン, p.21-37"
   ]
  }
 ],
 "metadata": {
  "kernelspec": {
   "display_name": "'Python Interactive'",
   "language": "python",
   "name": "6e525390-568e-4570-8ae4-1ecf9e85c1fd"
  },
  "language_info": {
   "codemirror_mode": {
    "name": "ipython",
    "version": 3
   },
   "file_extension": ".py",
   "mimetype": "text/x-python",
   "name": "python",
   "nbconvert_exporter": "python",
   "pygments_lexer": "ipython3",
   "version": "3.7.6"
  }
 },
 "nbformat": 4,
 "nbformat_minor": 4
}
