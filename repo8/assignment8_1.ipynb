{
  "nbformat": 4,
  "nbformat_minor": 0,
  "metadata": {
    "colab": {
      "name": "assignment8-1.ipynb",
      "provenance": [],
      "collapsed_sections": []
    },
    "kernelspec": {
      "name": "python3",
      "display_name": "Python 3"
    },
    "accelerator": "GPU"
  },
  "cells": [
    {
      "cell_type": "markdown",
      "metadata": {
        "id": "rCVWfz-3LZ_H",
        "colab_type": "text"
      },
      "source": [
        "### 第8回レポート課題その1"
      ]
    },
    {
      "cell_type": "code",
      "metadata": {
        "id": "k4wlnWJZYPM_",
        "colab_type": "code",
        "colab": {
          "base_uri": "https://localhost:8080/",
          "height": 326
        },
        "outputId": "c545ae50-80f3-4595-9e43-b86229f26e1a"
      },
      "source": [
        "!pip install gensim"
      ],
      "execution_count": 2,
      "outputs": [
        {
          "output_type": "stream",
          "text": [
            "Requirement already satisfied: gensim in /usr/local/lib/python3.6/dist-packages (3.6.0)\n",
            "Requirement already satisfied: six>=1.5.0 in /usr/local/lib/python3.6/dist-packages (from gensim) (1.15.0)\n",
            "Requirement already satisfied: smart-open>=1.2.1 in /usr/local/lib/python3.6/dist-packages (from gensim) (2.1.0)\n",
            "Requirement already satisfied: numpy>=1.11.3 in /usr/local/lib/python3.6/dist-packages (from gensim) (1.18.5)\n",
            "Requirement already satisfied: scipy>=0.18.1 in /usr/local/lib/python3.6/dist-packages (from gensim) (1.4.1)\n",
            "Requirement already satisfied: boto3 in /usr/local/lib/python3.6/dist-packages (from smart-open>=1.2.1->gensim) (1.14.24)\n",
            "Requirement already satisfied: requests in /usr/local/lib/python3.6/dist-packages (from smart-open>=1.2.1->gensim) (2.23.0)\n",
            "Requirement already satisfied: boto in /usr/local/lib/python3.6/dist-packages (from smart-open>=1.2.1->gensim) (2.49.0)\n",
            "Requirement already satisfied: jmespath<1.0.0,>=0.7.1 in /usr/local/lib/python3.6/dist-packages (from boto3->smart-open>=1.2.1->gensim) (0.10.0)\n",
            "Requirement already satisfied: s3transfer<0.4.0,>=0.3.0 in /usr/local/lib/python3.6/dist-packages (from boto3->smart-open>=1.2.1->gensim) (0.3.3)\n",
            "Requirement already satisfied: botocore<1.18.0,>=1.17.24 in /usr/local/lib/python3.6/dist-packages (from boto3->smart-open>=1.2.1->gensim) (1.17.24)\n",
            "Requirement already satisfied: chardet<4,>=3.0.2 in /usr/local/lib/python3.6/dist-packages (from requests->smart-open>=1.2.1->gensim) (3.0.4)\n",
            "Requirement already satisfied: certifi>=2017.4.17 in /usr/local/lib/python3.6/dist-packages (from requests->smart-open>=1.2.1->gensim) (2020.6.20)\n",
            "Requirement already satisfied: idna<3,>=2.5 in /usr/local/lib/python3.6/dist-packages (from requests->smart-open>=1.2.1->gensim) (2.10)\n",
            "Requirement already satisfied: urllib3!=1.25.0,!=1.25.1,<1.26,>=1.21.1 in /usr/local/lib/python3.6/dist-packages (from requests->smart-open>=1.2.1->gensim) (1.24.3)\n",
            "Requirement already satisfied: docutils<0.16,>=0.10 in /usr/local/lib/python3.6/dist-packages (from botocore<1.18.0,>=1.17.24->boto3->smart-open>=1.2.1->gensim) (0.15.2)\n",
            "Requirement already satisfied: python-dateutil<3.0.0,>=2.1 in /usr/local/lib/python3.6/dist-packages (from botocore<1.18.0,>=1.17.24->boto3->smart-open>=1.2.1->gensim) (2.8.1)\n"
          ],
          "name": "stdout"
        }
      ]
    },
    {
      "cell_type": "code",
      "metadata": {
        "id": "mSMEpuVnsPlA",
        "colab_type": "code",
        "colab": {
          "base_uri": "https://localhost:8080/",
          "height": 445
        },
        "outputId": "b887a4ed-c747-4841-b226-85305ac47908"
      },
      "source": [
        "FILE_ID = \"0B7XkCwpI5KDYNlNUTTlSS21pQmM\"\n",
        "FILE_NAME = \"GoogleNews-vectors-negative300.bin.gz\"\n",
        "!wget --load-cookies /tmp/cookies.txt \"https://docs.google.com/uc?export=download&confirm=$(wget --quiet --save-cookies /tmp/cookies.txt --keep-session-cookies --no-check-certificate 'https://docs.google.com/uc?export=download&id=$FILE_ID' -O- | sed -rn 's/.*confirm=([0-9A-Za-z_]+).*/\\1\\n/p')&id=$FILE_ID\" -O $FILE_NAME && rm -rf /tmp/cookies.txt"
      ],
      "execution_count": 3,
      "outputs": [
        {
          "output_type": "stream",
          "text": [
            "--2020-07-26 12:55:34--  https://docs.google.com/uc?export=download&confirm=G8uX&id=0B7XkCwpI5KDYNlNUTTlSS21pQmM\n",
            "Resolving docs.google.com (docs.google.com)... 74.125.202.102, 74.125.202.139, 74.125.202.138, ...\n",
            "Connecting to docs.google.com (docs.google.com)|74.125.202.102|:443... connected.\n",
            "HTTP request sent, awaiting response... 302 Moved Temporarily\n",
            "Location: https://doc-00-a4-docs.googleusercontent.com/docs/securesc/nipubaou91mnf8qjgbqs2bob69tk74r0/kf2dk6h7hs439kgo6kg649k9h69bqci3/1595768100000/06848720943842814915/15799669660611057570Z/0B7XkCwpI5KDYNlNUTTlSS21pQmM?e=download [following]\n",
            "--2020-07-26 12:55:35--  https://doc-00-a4-docs.googleusercontent.com/docs/securesc/nipubaou91mnf8qjgbqs2bob69tk74r0/kf2dk6h7hs439kgo6kg649k9h69bqci3/1595768100000/06848720943842814915/15799669660611057570Z/0B7XkCwpI5KDYNlNUTTlSS21pQmM?e=download\n",
            "Resolving doc-00-a4-docs.googleusercontent.com (doc-00-a4-docs.googleusercontent.com)... 172.217.214.132, 2607:f8b0:4001:c19::84\n",
            "Connecting to doc-00-a4-docs.googleusercontent.com (doc-00-a4-docs.googleusercontent.com)|172.217.214.132|:443... connected.\n",
            "HTTP request sent, awaiting response... 302 Found\n",
            "Location: https://docs.google.com/nonceSigner?nonce=72a534mucqqn2&continue=https://doc-00-a4-docs.googleusercontent.com/docs/securesc/nipubaou91mnf8qjgbqs2bob69tk74r0/kf2dk6h7hs439kgo6kg649k9h69bqci3/1595768100000/06848720943842814915/15799669660611057570Z/0B7XkCwpI5KDYNlNUTTlSS21pQmM?e%3Ddownload&hash=2dj0a6i226c3lta9c43akbegoqfua2dp [following]\n",
            "--2020-07-26 12:55:35--  https://docs.google.com/nonceSigner?nonce=72a534mucqqn2&continue=https://doc-00-a4-docs.googleusercontent.com/docs/securesc/nipubaou91mnf8qjgbqs2bob69tk74r0/kf2dk6h7hs439kgo6kg649k9h69bqci3/1595768100000/06848720943842814915/15799669660611057570Z/0B7XkCwpI5KDYNlNUTTlSS21pQmM?e%3Ddownload&hash=2dj0a6i226c3lta9c43akbegoqfua2dp\n",
            "Connecting to docs.google.com (docs.google.com)|74.125.202.102|:443... connected.\n",
            "HTTP request sent, awaiting response... 302 Found\n",
            "Location: https://doc-00-a4-docs.googleusercontent.com/docs/securesc/nipubaou91mnf8qjgbqs2bob69tk74r0/kf2dk6h7hs439kgo6kg649k9h69bqci3/1595768100000/06848720943842814915/15799669660611057570Z/0B7XkCwpI5KDYNlNUTTlSS21pQmM?e=download&nonce=72a534mucqqn2&user=15799669660611057570Z&hash=155f05t2gic6p36jb9mavlmmi7k0lkfu [following]\n",
            "--2020-07-26 12:55:35--  https://doc-00-a4-docs.googleusercontent.com/docs/securesc/nipubaou91mnf8qjgbqs2bob69tk74r0/kf2dk6h7hs439kgo6kg649k9h69bqci3/1595768100000/06848720943842814915/15799669660611057570Z/0B7XkCwpI5KDYNlNUTTlSS21pQmM?e=download&nonce=72a534mucqqn2&user=15799669660611057570Z&hash=155f05t2gic6p36jb9mavlmmi7k0lkfu\n",
            "Connecting to doc-00-a4-docs.googleusercontent.com (doc-00-a4-docs.googleusercontent.com)|172.217.214.132|:443... connected.\n",
            "HTTP request sent, awaiting response... 200 OK\n",
            "Length: unspecified [application/x-gzip]\n",
            "Saving to: ‘GoogleNews-vectors-negative300.bin.gz’\n",
            "\n",
            "GoogleNews-vectors-     [              <=>   ]   1.53G   140MB/s    in 9.6s    \n",
            "\n",
            "2020-07-26 12:55:46 (163 MB/s) - ‘GoogleNews-vectors-negative300.bin.gz’ saved [1647046227]\n",
            "\n"
          ],
          "name": "stdout"
        }
      ]
    },
    {
      "cell_type": "code",
      "metadata": {
        "id": "_UX-JOB21S6C",
        "colab_type": "code",
        "colab": {
          "base_uri": "https://localhost:8080/",
          "height": 187
        },
        "outputId": "a49e746d-0687-46cd-ebd7-352cf623817e"
      },
      "source": [
        "!wget http://130.153.158.5/~inaba/data70.zip"
      ],
      "execution_count": 4,
      "outputs": [
        {
          "output_type": "stream",
          "text": [
            "--2020-07-26 12:55:56--  http://130.153.158.5/~inaba/data70.zip\n",
            "Connecting to 130.153.158.5:80... connected.\n",
            "HTTP request sent, awaiting response... 200 OK\n",
            "Length: 392010 (383K) [application/zip]\n",
            "Saving to: ‘data70.zip’\n",
            "\n",
            "data70.zip          100%[===================>] 382.82K  1.30KB/s    in 6.5s    \n",
            "\n",
            "2020-07-26 12:56:03 (58.7 KB/s) - ‘data70.zip’ saved [392010/392010]\n",
            "\n"
          ],
          "name": "stdout"
        }
      ]
    },
    {
      "cell_type": "code",
      "metadata": {
        "id": "d8waZjks1sBj",
        "colab_type": "code",
        "colab": {
          "base_uri": "https://localhost:8080/",
          "height": 85
        },
        "outputId": "7ae91aea-90b5-485d-ba83-7ea5610a7013"
      },
      "source": [
        "!unzip data70.zip"
      ],
      "execution_count": 5,
      "outputs": [
        {
          "output_type": "stream",
          "text": [
            "Archive:  data70.zip\n",
            "  inflating: test.txt                \n",
            "  inflating: train.txt               \n",
            "  inflating: valid.txt               \n"
          ],
          "name": "stdout"
        }
      ]
    },
    {
      "cell_type": "code",
      "metadata": {
        "id": "4wUCcBdxnFHz",
        "colab_type": "code",
        "colab": {
          "base_uri": "https://localhost:8080/",
          "height": 122
        },
        "outputId": "b13bddc7-e9a9-44f9-e491-d2d86cbc7e17"
      },
      "source": [
        "from google.colab import drive\n",
        "drive.mount('/content/drive')"
      ],
      "execution_count": 6,
      "outputs": [
        {
          "output_type": "stream",
          "text": [
            "Go to this URL in a browser: https://accounts.google.com/o/oauth2/auth?client_id=947318989803-6bn6qk8qdgf4n4g3pfee6491hc0brc4i.apps.googleusercontent.com&redirect_uri=urn%3aietf%3awg%3aoauth%3a2.0%3aoob&response_type=code&scope=email%20https%3a%2f%2fwww.googleapis.com%2fauth%2fdocs.test%20https%3a%2f%2fwww.googleapis.com%2fauth%2fdrive%20https%3a%2f%2fwww.googleapis.com%2fauth%2fdrive.photos.readonly%20https%3a%2f%2fwww.googleapis.com%2fauth%2fpeopleapi.readonly\n",
            "\n",
            "Enter your authorization code:\n",
            "··········\n",
            "Mounted at /content/drive\n"
          ],
          "name": "stdout"
        }
      ]
    },
    {
      "cell_type": "code",
      "metadata": {
        "id": "SAl6t2L-mYcn",
        "colab_type": "code",
        "colab": {
          "base_uri": "https://localhost:8080/",
          "height": 71
        },
        "outputId": "b1a312bc-84ae-436f-bd15-f93a58ac4701"
      },
      "source": [
        "import gensim\n",
        "import re\n",
        "import torch\n",
        "import numpy as np\n",
        "\n",
        "w2v_path = './GoogleNews-vectors-negative300.bin.gz' #todo GoogleNews-vectors-negative300.binのパスを指定\n",
        "data_path = './' #todo ファイル出力ディレクトリを指定\n",
        "data_path2 = '/content/drive/My Drive/data/'\n",
        "\n",
        "w2v_model = gensim.models.KeyedVectors.load_word2vec_format(w2v_path, binary=True) #todo gensimでword2vecのモデルを読み込む\n",
        "\n",
        "category2num = {\"b\": 0, \"t\": 1, \"e\": 2, \"m\": 3}\n",
        "\n",
        "\n",
        "# タイトルを受け取り，単語ベクトルの平均を返す関数\n",
        "def get_feature(title):\n",
        "    word_list =  title.split(' ')  #todo タイトルをスペースで分割\n",
        "    vec_list = []\n",
        "    for word in word_list:\n",
        "        try:\n",
        "            vec = w2v_model[word] #todo wordを意味するベクトルを取得\n",
        "        except KeyError:\n",
        "            vec = np.zeros(100) #todo すべての要素が0のベクトルを代入\n",
        "        vec_list.append(vec)    \n",
        "    vec_np = np.array(vec_list[1]) # numpyのarrayに変換\n",
        "    feature = np.sum(vec_np) / len(vec_np)  # 平均ベクトルを計算\n",
        "    return feature\n",
        "\n",
        "\n",
        "def get_data(fname):\n",
        "    label_list = []\n",
        "    feature_list = []\n",
        "    with open(fname) as f:\n",
        "        for line in f:\n",
        "            if not line:\n",
        "                continue\n",
        "            data = line.split('\\t')\n",
        "            title = data[1] #todo dataからタイトルを取り出す\n",
        "            feature = get_feature(title) \n",
        "            feature_list.append(feature)\n",
        "            label = category2num[data[0]]\n",
        "            label_list.append(label)\n",
        "    features = torch.tensor(feature_list) #todo feature_listをtensorに変換\n",
        "    labels = torch.tensor(label_list) #todo label_listをtensorに変換\n",
        "    return features, labels\n",
        "\n",
        "\n",
        "train_x, train_y = get_data(data_path + \"train.txt\")\n",
        "valid_x, valid_y = get_data(data_path + \"valid.txt\")\n",
        "test_x, test_y = get_data(data_path + \"test.txt\")\n",
        "\n",
        "# 保存\n",
        "torch.save(train_x, data_path2 + \"train_x.pt\")\n",
        "torch.save(train_y, data_path2 + \"train_y.pt\")\n",
        "torch.save(valid_x, data_path2 + \"valid_x.pt\")\n",
        "torch.save(valid_y, data_path2 + \"valid_y.pt\")\n",
        "torch.save(test_x, data_path2 + \"test_x.pt\")\n",
        "torch.save(test_y, data_path2 + \"test_y.pt\")"
      ],
      "execution_count": 7,
      "outputs": [
        {
          "output_type": "stream",
          "text": [
            "/usr/local/lib/python3.6/dist-packages/smart_open/smart_open_lib.py:254: UserWarning: This function is deprecated, use smart_open.open instead. See the migration notes for details: https://github.com/RaRe-Technologies/smart_open/blob/master/README.rst#migrating-to-the-new-open-function\n",
            "  'See the migration notes for details: %s' % _MIGRATION_NOTES_URL\n"
          ],
          "name": "stderr"
        }
      ]
    },
    {
      "cell_type": "markdown",
      "metadata": {
        "id": "rTMi2rEBO94H",
        "colab_type": "text"
      },
      "source": [
        "#### 感想\n",
        "今回用いた関数はこれからも必要になる機会はあると思うのでよく復習しておきたい."
      ]
    }
  ]
}